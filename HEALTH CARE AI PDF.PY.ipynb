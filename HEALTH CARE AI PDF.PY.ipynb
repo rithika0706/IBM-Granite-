{
  "nbformat": 4,
  "nbformat_minor": 0,
  "metadata": {
    "colab": {
      "provenance": [],
      "gpuType": "T4"
    },
    "kernelspec": {
      "name": "python3",
      "display_name": "Python 3"
    },
    "language_info": {
      "name": "python"
    },
    "accelerator": "GPU",
    "widgets": {
      "application/vnd.jupyter.widget-state+json": {
        "cbbc4ed2c9774da09cb83df669f4c65a": {
          "model_module": "@jupyter-widgets/controls",
          "model_name": "HBoxModel",
          "model_module_version": "1.5.0",
          "state": {
            "_dom_classes": [],
            "_model_module": "@jupyter-widgets/controls",
            "_model_module_version": "1.5.0",
            "_model_name": "HBoxModel",
            "_view_count": null,
            "_view_module": "@jupyter-widgets/controls",
            "_view_module_version": "1.5.0",
            "_view_name": "HBoxView",
            "box_style": "",
            "children": [
              "IPY_MODEL_82d4185d4ab6434a85f1e699b2bc5fab",
              "IPY_MODEL_cbddc8b8cb67436ebf3b26965cc4962e",
              "IPY_MODEL_48d65714457a42188d1b29ce5e9a44a9"
            ],
            "layout": "IPY_MODEL_04c89c79c93442b297a44f79d760643b"
          }
        },
        "6cdfae455b7b496ca336e34a8be7ff2c": {
          "model_module": "@jupyter-widgets/controls",
          "model_name": "HBoxModel",
          "model_module_version": "1.5.0",
          "state": {
            "_dom_classes": [],
            "_model_module": "@jupyter-widgets/controls",
            "_model_module_version": "1.5.0",
            "_model_name": "HBoxModel",
            "_view_count": null,
            "_view_module": "@jupyter-widgets/controls",
            "_view_module_version": "1.5.0",
            "_view_name": "HBoxView",
            "box_style": "",
            "children": [
              "IPY_MODEL_ffcb0f53bbf643339d4b8d073df4ceed",
              "IPY_MODEL_be9d14c0eb15486d9f4df8e6a84ef0cb",
              "IPY_MODEL_664fa70a03ee42aba13e23dcf9ac0931"
            ],
            "layout": "IPY_MODEL_e9937404fe1843c09e5a0511766ec084"
          }
        },
        "362eb3a62c9c476aa61499f73ce8df36": {
          "model_module": "@jupyter-widgets/controls",
          "model_name": "HBoxModel",
          "model_module_version": "1.5.0",
          "state": {
            "_dom_classes": [],
            "_model_module": "@jupyter-widgets/controls",
            "_model_module_version": "1.5.0",
            "_model_name": "HBoxModel",
            "_view_count": null,
            "_view_module": "@jupyter-widgets/controls",
            "_view_module_version": "1.5.0",
            "_view_name": "HBoxView",
            "box_style": "",
            "children": [
              "IPY_MODEL_dd4b7ae3bd7a4e8fa9f54e189557833d",
              "IPY_MODEL_cc9d0e7a0a1f481bad6c47d0100eca53",
              "IPY_MODEL_c303271d50bd47769a67091ad67519bb"
            ],
            "layout": "IPY_MODEL_0a0e1dbe8b9d4472ab0ab5554c0a3b61"
          }
        },
        "f68d43d4443e44e7be80263e0d3c1c7b": {
          "model_module": "@jupyter-widgets/controls",
          "model_name": "HBoxModel",
          "model_module_version": "1.5.0",
          "state": {
            "_dom_classes": [],
            "_model_module": "@jupyter-widgets/controls",
            "_model_module_version": "1.5.0",
            "_model_name": "HBoxModel",
            "_view_count": null,
            "_view_module": "@jupyter-widgets/controls",
            "_view_module_version": "1.5.0",
            "_view_name": "HBoxView",
            "box_style": "",
            "children": [
              "IPY_MODEL_0fef3c2c7e0b4654a5e730db7f0e1cb3",
              "IPY_MODEL_5cd46c7b97bd4fddbcca63b01d2567ae",
              "IPY_MODEL_a7ffcc60ea424dccbed26371abe163db"
            ],
            "layout": "IPY_MODEL_16122bc505314ecf9124bd3487090f81"
          }
        },
        "61d0ad8f39cd443b89278fdc56df74fd": {
          "model_module": "@jupyter-widgets/controls",
          "model_name": "HBoxModel",
          "model_module_version": "1.5.0",
          "state": {
            "_dom_classes": [],
            "_model_module": "@jupyter-widgets/controls",
            "_model_module_version": "1.5.0",
            "_model_name": "HBoxModel",
            "_view_count": null,
            "_view_module": "@jupyter-widgets/controls",
            "_view_module_version": "1.5.0",
            "_view_name": "HBoxView",
            "box_style": "",
            "children": [
              "IPY_MODEL_00653b672fde4d529a65c1de41bd87b1",
              "IPY_MODEL_49facff6ba9f4b3bae1e89f986bf1fee",
              "IPY_MODEL_143606309ef24e4aa9874035301a0e9e"
            ],
            "layout": "IPY_MODEL_bb6f13b2ed564f1aa4e1ccacd37f77f2"
          }
        },
        "07a0d8968a644a0f80a4b4cff298bb4b": {
          "model_module": "@jupyter-widgets/controls",
          "model_name": "HBoxModel",
          "model_module_version": "1.5.0",
          "state": {
            "_dom_classes": [],
            "_model_module": "@jupyter-widgets/controls",
            "_model_module_version": "1.5.0",
            "_model_name": "HBoxModel",
            "_view_count": null,
            "_view_module": "@jupyter-widgets/controls",
            "_view_module_version": "1.5.0",
            "_view_name": "HBoxView",
            "box_style": "",
            "children": [
              "IPY_MODEL_f105d66633674c27bee56bf02cc96ae9",
              "IPY_MODEL_c195c11569e84aceb6297c0efc3e19c2",
              "IPY_MODEL_173573de646c4e58a97030d64a341f00"
            ],
            "layout": "IPY_MODEL_af3622fe00db4960a05cc5f9787de2f6"
          }
        },
        "f45270a9e1ae4d1f803bdaf6ce462893": {
          "model_module": "@jupyter-widgets/controls",
          "model_name": "HBoxModel",
          "model_module_version": "1.5.0",
          "state": {
            "_dom_classes": [],
            "_model_module": "@jupyter-widgets/controls",
            "_model_module_version": "1.5.0",
            "_model_name": "HBoxModel",
            "_view_count": null,
            "_view_module": "@jupyter-widgets/controls",
            "_view_module_version": "1.5.0",
            "_view_name": "HBoxView",
            "box_style": "",
            "children": [
              "IPY_MODEL_09c1dc3a86584bfb96a2a5edba5c9302",
              "IPY_MODEL_91f6265715f14462a84eaa180ea6aa72",
              "IPY_MODEL_11c39b423e8b43e88758cc3a3513d05e"
            ],
            "layout": "IPY_MODEL_8147c451df7841518da68aa6ead00dd2"
          }
        },
        "a60322c9cb294ddd87a21d0bc6e3e129": {
          "model_module": "@jupyter-widgets/controls",
          "model_name": "HBoxModel",
          "model_module_version": "1.5.0",
          "state": {
            "_dom_classes": [],
            "_model_module": "@jupyter-widgets/controls",
            "_model_module_version": "1.5.0",
            "_model_name": "HBoxModel",
            "_view_count": null,
            "_view_module": "@jupyter-widgets/controls",
            "_view_module_version": "1.5.0",
            "_view_name": "HBoxView",
            "box_style": "",
            "children": [
              "IPY_MODEL_2366ca45aed548dfbde0385ed778c94b",
              "IPY_MODEL_e029989541ae40759432bb1933525f0e",
              "IPY_MODEL_7cc9dd97137b4455b306cfbbf25013e6"
            ],
            "layout": "IPY_MODEL_87d5f9aeb5ff4b448666f5d9d3cba752"
          }
        },
        "24c4a6105df245499ca350b122d0bac0": {
          "model_module": "@jupyter-widgets/controls",
          "model_name": "HBoxModel",
          "model_module_version": "1.5.0",
          "state": {
            "_dom_classes": [],
            "_model_module": "@jupyter-widgets/controls",
            "_model_module_version": "1.5.0",
            "_model_name": "HBoxModel",
            "_view_count": null,
            "_view_module": "@jupyter-widgets/controls",
            "_view_module_version": "1.5.0",
            "_view_name": "HBoxView",
            "box_style": "",
            "children": [
              "IPY_MODEL_206ba805318e401281fff214ec5e0474",
              "IPY_MODEL_9e1e06c26d21475bbfefbd7a28a56715",
              "IPY_MODEL_d2aa68de6b304e99b9fae75a752388cc"
            ],
            "layout": "IPY_MODEL_1c15b9f862684b75b0a49831f55d5365"
          }
        },
        "072be957556c442082401c3a4940ba25": {
          "model_module": "@jupyter-widgets/controls",
          "model_name": "HBoxModel",
          "model_module_version": "1.5.0",
          "state": {
            "_dom_classes": [],
            "_model_module": "@jupyter-widgets/controls",
            "_model_module_version": "1.5.0",
            "_model_name": "HBoxModel",
            "_view_count": null,
            "_view_module": "@jupyter-widgets/controls",
            "_view_module_version": "1.5.0",
            "_view_name": "HBoxView",
            "box_style": "",
            "children": [
              "IPY_MODEL_821a162b31804fe48ee32bfedc421f39",
              "IPY_MODEL_30abd35182ba4ef8b14d469685906222",
              "IPY_MODEL_56c5f7f88cd74738ba66e075ab941311"
            ],
            "layout": "IPY_MODEL_d71960f49e4547ca984fa8b8e1406170"
          }
        },
        "98ab3ffcadb24351a16da45e4263676f": {
          "model_module": "@jupyter-widgets/controls",
          "model_name": "HBoxModel",
          "model_module_version": "1.5.0",
          "state": {
            "_dom_classes": [],
            "_model_module": "@jupyter-widgets/controls",
            "_model_module_version": "1.5.0",
            "_model_name": "HBoxModel",
            "_view_count": null,
            "_view_module": "@jupyter-widgets/controls",
            "_view_module_version": "1.5.0",
            "_view_name": "HBoxView",
            "box_style": "",
            "children": [
              "IPY_MODEL_7370ea7fc0e14e93a01b5c16df9fbebe",
              "IPY_MODEL_02c854821ade48ec8485484811c41900",
              "IPY_MODEL_a03b8af090bc4013882d98e01413401f"
            ],
            "layout": "IPY_MODEL_3ead624f1bc743ab8f2d3ac0dfd61a48"
          }
        },
        "90bf5131bd7a44ba8535c18a9a244212": {
          "model_module": "@jupyter-widgets/controls",
          "model_name": "HBoxModel",
          "model_module_version": "1.5.0",
          "state": {
            "_dom_classes": [],
            "_model_module": "@jupyter-widgets/controls",
            "_model_module_version": "1.5.0",
            "_model_name": "HBoxModel",
            "_view_count": null,
            "_view_module": "@jupyter-widgets/controls",
            "_view_module_version": "1.5.0",
            "_view_name": "HBoxView",
            "box_style": "",
            "children": [
              "IPY_MODEL_e87bfe4eef7049ba8311e143bc6c4447",
              "IPY_MODEL_2d9e6f3644924966a3949a6767602bef",
              "IPY_MODEL_3ae23c760d994209a85190045afbf3b2"
            ],
            "layout": "IPY_MODEL_2a3a5179f6924bf491362e83045e6f21"
          }
        },
        "026f72e8c8ca44a1abcc39a75a66155e": {
          "model_module": "@jupyter-widgets/controls",
          "model_name": "HBoxModel",
          "model_module_version": "1.5.0",
          "state": {
            "_dom_classes": [],
            "_model_module": "@jupyter-widgets/controls",
            "_model_module_version": "1.5.0",
            "_model_name": "HBoxModel",
            "_view_count": null,
            "_view_module": "@jupyter-widgets/controls",
            "_view_module_version": "1.5.0",
            "_view_name": "HBoxView",
            "box_style": "",
            "children": [
              "IPY_MODEL_cd8d8c8829f6445a9fd10dc305e799b5",
              "IPY_MODEL_0cab03764ad049b1afb545732d438152",
              "IPY_MODEL_3b60619129d841e1909f329ab25e0050"
            ],
            "layout": "IPY_MODEL_9af9bb04cd8d440687ca80c707bfb91f"
          }
        }
      }
    }
  },
  "cells": [
    {
      "cell_type": "code",
      "execution_count": 2,
      "metadata": {
        "id": "NJzo_9PydeZt"
      },
      "outputs": [],
      "source": [
        "!pip install transformers torch gradio -q"
      ]
    },
    {
      "cell_type": "code",
      "source": [
        "import gradio as gr\n",
        "import torch\n",
        "from transformers import AutoTokenizer, AutoModelForCausalLM\n",
        "\n",
        "# Load model and tokenizer\n",
        "model_name = \"ibm-granite/granite-3.2-2b-instruct\"\n",
        "tokenizer = AutoTokenizer.from_pretrained(model_name)\n",
        "model = AutoModelForCausalLM.from_pretrained(\n",
        "    model_name,\n",
        "    torch_dtype=torch.float16 if torch.cuda.is_available() else torch.float32,\n",
        "    device_map=\"auto\" if torch.cuda.is_available() else None\n",
        ")\n",
        "\n",
        "if tokenizer.pad_token is None:\n",
        "    tokenizer.pad_token = tokenizer.eos_token\n",
        "\n",
        "def generate_response(prompt, max_length=1024):\n",
        "    inputs = tokenizer(prompt, return_tensors=\"pt\", truncation=True, max_length=512)\n",
        "\n",
        "    if torch.cuda.is_available():\n",
        "        inputs = {k: v.to(model.device) for k, v in inputs.items()}\n",
        "\n",
        "    with torch.no_grad():\n",
        "        outputs = model.generate(\n",
        "            **inputs,\n",
        "            max_length=max_length,\n",
        "            temperature=0.7,\n",
        "            do_sample=True,\n",
        "            pad_token_id=tokenizer.eos_token_id\n",
        "        )\n",
        "\n",
        "    response = tokenizer.decode(outputs[0], skip_special_tokens=True)\n",
        "    response = response.replace(prompt, \"\").strip()\n",
        "    return response\n",
        "\n",
        "def disease_prediction(symptoms):\n",
        "    prompt = f\"Based on the following symptoms, provide possible medical conditions and general medication suggestions. Always emphasize the importance of consulting a doctor for proper diagnosis.\\n\\nSymptoms: {symptoms}\\n\\nPossible conditions and recommendations:\\n\\n**IMPORTANT: This is for informational purposes only. Please consult a healthcare professional for proper diagnosis and treatment.**\\n\\nAnalysis:\"\n",
        "    return generate_response(prompt, max_length=1200)\n",
        "\n",
        "def treatment_plan(condition, age, gender, medical_history):\n",
        "    prompt = f\"Generate personalized treatment suggestions for the following patient information. Include home remedies and general medication guidelines.\\n\\nMedical Condition: {condition}\\nAge: {age}\\nGender: {gender}\\nMedical History: {medical_history}\\n\\nPersonalized treatment plan including home remedies and medication guidelines:\\n\\n**IMPORTANT: This is for informational purposes only. Please consult a healthcare professional for proper treatment.**\\n\\nTreatment Plan:\"\n",
        "    return generate_response(prompt, max_length=1200)\n",
        "\n",
        "# Create Gradio interface\n",
        "with gr.Blocks() as app:\n",
        "    gr.Markdown(\"# Medical AI Assistant\")\n",
        "    gr.Markdown(\"**Disclaimer: This is for informational purposes only. Always consult healthcare professionals for medical advice.**\")\n",
        "\n",
        "    with gr.Tabs():\n",
        "        with gr.TabItem(\"Disease Prediction\"):\n",
        "            with gr.Row():\n",
        "                with gr.Column():\n",
        "                    symptoms_input = gr.Textbox(\n",
        "                        label=\"Enter Symptoms\",\n",
        "                        placeholder=\"e.g., fever, headache, cough, fatigue...\",\n",
        "                        lines=4\n",
        "                    )\n",
        "                    predict_btn = gr.Button(\"Analyze Symptoms\")\n",
        "\n",
        "                with gr.Column():\n",
        "                    prediction_output = gr.Textbox(label=\"Possible Conditions & Recommendations\", lines=20)\n",
        "\n",
        "            predict_btn.click(disease_prediction, inputs=symptoms_input, outputs=prediction_output)\n",
        "\n",
        "        with gr.TabItem(\"Treatment Plans\"):\n",
        "            with gr.Row():\n",
        "                with gr.Column():\n",
        "                    condition_input = gr.Textbox(\n",
        "                        label=\"Medical Condition\",\n",
        "                        placeholder=\"e.g., diabetes, hypertension, migraine...\",\n",
        "                        lines=2\n",
        "                    )\n",
        "                    age_input = gr.Number(label=\"Age\", value=30)\n",
        "                    gender_input = gr.Dropdown(\n",
        "                        choices=[\"Male\", \"Female\", \"Other\"],\n",
        "                        label=\"Gender\",\n",
        "                        value=\"Male\"\n",
        "                    )\n",
        "                    history_input = gr.Textbox(\n",
        "                        label=\"Medical History\",\n",
        "                        placeholder=\"Previous conditions, allergies, medications or None\",\n",
        "                        lines=3\n",
        "                    )\n",
        "                    plan_btn = gr.Button(\"Generate Treatment Plan\")\n",
        "\n",
        "                with gr.Column():\n",
        "                    plan_output = gr.Textbox(label=\"Personalized Treatment Plan\", lines=20)\n",
        "\n",
        "            plan_btn.click(treatment_plan, inputs=[condition_input, age_input, gender_input, history_input], outputs=plan_output)\n",
        "\n",
        "app.launch(share=True)\n"
      ],
      "metadata": {
        "colab": {
          "base_uri": "https://localhost:8080/",
          "height": 715,
          "referenced_widgets": [
            "cbbc4ed2c9774da09cb83df669f4c65a",
            "6cdfae455b7b496ca336e34a8be7ff2c",
            "362eb3a62c9c476aa61499f73ce8df36",
            "f68d43d4443e44e7be80263e0d3c1c7b",
            "61d0ad8f39cd443b89278fdc56df74fd",
            "07a0d8968a644a0f80a4b4cff298bb4b",
            "f45270a9e1ae4d1f803bdaf6ce462893",
            "a60322c9cb294ddd87a21d0bc6e3e129",
            "24c4a6105df245499ca350b122d0bac0",
            "072be957556c442082401c3a4940ba25",
            "98ab3ffcadb24351a16da45e4263676f",
            "90bf5131bd7a44ba8535c18a9a244212",
            "026f72e8c8ca44a1abcc39a75a66155e"
          ]
        },
        "id": "xt5j03NEe216",
        "outputId": "4aa73038-ba28-4bbc-f29e-8e67408c451b"
      },
      "execution_count": 3,
      "outputs": [
        {
          "output_type": "stream",
          "name": "stderr",
          "text": [
            "/usr/local/lib/python3.12/dist-packages/huggingface_hub/utils/_auth.py:104: UserWarning: \n",
            "Error while fetching `HF_TOKEN` secret value from your vault: 'Requesting secret HF_TOKEN timed out. Secrets can only be fetched when running from the Colab UI.'.\n",
            "You are not authenticated with the Hugging Face Hub in this notebook.\n",
            "If the error persists, please let us know by opening an issue on GitHub (https://github.com/huggingface/huggingface_hub/issues/new).\n",
            "  warnings.warn(\n"
          ]
        },
        {
          "output_type": "display_data",
          "data": {
            "text/plain": [
              "tokenizer_config.json: 0.00B [00:00, ?B/s]"
            ],
            "application/vnd.jupyter.widget-view+json": {
              "version_major": 2,
              "version_minor": 0,
              "model_id": "cbbc4ed2c9774da09cb83df669f4c65a"
            }
          },
          "metadata": {}
        },
        {
          "output_type": "display_data",
          "data": {
            "text/plain": [
              "vocab.json: 0.00B [00:00, ?B/s]"
            ],
            "application/vnd.jupyter.widget-view+json": {
              "version_major": 2,
              "version_minor": 0,
              "model_id": "6cdfae455b7b496ca336e34a8be7ff2c"
            }
          },
          "metadata": {}
        },
        {
          "output_type": "display_data",
          "data": {
            "text/plain": [
              "merges.txt: 0.00B [00:00, ?B/s]"
            ],
            "application/vnd.jupyter.widget-view+json": {
              "version_major": 2,
              "version_minor": 0,
              "model_id": "362eb3a62c9c476aa61499f73ce8df36"
            }
          },
          "metadata": {}
        },
        {
          "output_type": "display_data",
          "data": {
            "text/plain": [
              "tokenizer.json: 0.00B [00:00, ?B/s]"
            ],
            "application/vnd.jupyter.widget-view+json": {
              "version_major": 2,
              "version_minor": 0,
              "model_id": "f68d43d4443e44e7be80263e0d3c1c7b"
            }
          },
          "metadata": {}
        },
        {
          "output_type": "display_data",
          "data": {
            "text/plain": [
              "added_tokens.json:   0%|          | 0.00/87.0 [00:00<?, ?B/s]"
            ],
            "application/vnd.jupyter.widget-view+json": {
              "version_major": 2,
              "version_minor": 0,
              "model_id": "61d0ad8f39cd443b89278fdc56df74fd"
            }
          },
          "metadata": {}
        },
        {
          "output_type": "display_data",
          "data": {
            "text/plain": [
              "special_tokens_map.json:   0%|          | 0.00/701 [00:00<?, ?B/s]"
            ],
            "application/vnd.jupyter.widget-view+json": {
              "version_major": 2,
              "version_minor": 0,
              "model_id": "07a0d8968a644a0f80a4b4cff298bb4b"
            }
          },
          "metadata": {}
        },
        {
          "output_type": "display_data",
          "data": {
            "text/plain": [
              "config.json:   0%|          | 0.00/786 [00:00<?, ?B/s]"
            ],
            "application/vnd.jupyter.widget-view+json": {
              "version_major": 2,
              "version_minor": 0,
              "model_id": "f45270a9e1ae4d1f803bdaf6ce462893"
            }
          },
          "metadata": {}
        },
        {
          "output_type": "stream",
          "name": "stderr",
          "text": [
            "`torch_dtype` is deprecated! Use `dtype` instead!\n"
          ]
        },
        {
          "output_type": "display_data",
          "data": {
            "text/plain": [
              "model.safetensors.index.json: 0.00B [00:00, ?B/s]"
            ],
            "application/vnd.jupyter.widget-view+json": {
              "version_major": 2,
              "version_minor": 0,
              "model_id": "a60322c9cb294ddd87a21d0bc6e3e129"
            }
          },
          "metadata": {}
        },
        {
          "output_type": "display_data",
          "data": {
            "text/plain": [
              "Fetching 2 files:   0%|          | 0/2 [00:00<?, ?it/s]"
            ],
            "application/vnd.jupyter.widget-view+json": {
              "version_major": 2,
              "version_minor": 0,
              "model_id": "24c4a6105df245499ca350b122d0bac0"
            }
          },
          "metadata": {}
        },
        {
          "output_type": "display_data",
          "data": {
            "text/plain": [
              "model-00002-of-00002.safetensors:   0%|          | 0.00/67.1M [00:00<?, ?B/s]"
            ],
            "application/vnd.jupyter.widget-view+json": {
              "version_major": 2,
              "version_minor": 0,
              "model_id": "072be957556c442082401c3a4940ba25"
            }
          },
          "metadata": {}
        },
        {
          "output_type": "display_data",
          "data": {
            "text/plain": [
              "model-00001-of-00002.safetensors:   0%|          | 0.00/5.00G [00:00<?, ?B/s]"
            ],
            "application/vnd.jupyter.widget-view+json": {
              "version_major": 2,
              "version_minor": 0,
              "model_id": "98ab3ffcadb24351a16da45e4263676f"
            }
          },
          "metadata": {}
        },
        {
          "output_type": "display_data",
          "data": {
            "text/plain": [
              "Loading checkpoint shards:   0%|          | 0/2 [00:00<?, ?it/s]"
            ],
            "application/vnd.jupyter.widget-view+json": {
              "version_major": 2,
              "version_minor": 0,
              "model_id": "90bf5131bd7a44ba8535c18a9a244212"
            }
          },
          "metadata": {}
        },
        {
          "output_type": "display_data",
          "data": {
            "text/plain": [
              "generation_config.json:   0%|          | 0.00/137 [00:00<?, ?B/s]"
            ],
            "application/vnd.jupyter.widget-view+json": {
              "version_major": 2,
              "version_minor": 0,
              "model_id": "026f72e8c8ca44a1abcc39a75a66155e"
            }
          },
          "metadata": {}
        },
        {
          "output_type": "stream",
          "name": "stdout",
          "text": [
            "Colab notebook detected. To show errors in colab notebook, set debug=True in launch()\n",
            "* Running on public URL: https://1dd2bf43ad2487b5a2.gradio.live\n",
            "\n",
            "This share link expires in 1 week. For free permanent hosting and GPU upgrades, run `gradio deploy` from the terminal in the working directory to deploy to Hugging Face Spaces (https://huggingface.co/spaces)\n"
          ]
        },
        {
          "output_type": "display_data",
          "data": {
            "text/plain": [
              "<IPython.core.display.HTML object>"
            ],
            "text/html": [
              "<div><iframe src=\"https://1dd2bf43ad2487b5a2.gradio.live\" width=\"100%\" height=\"500\" allow=\"autoplay; camera; microphone; clipboard-read; clipboard-write;\" frameborder=\"0\" allowfullscreen></iframe></div>"
            ]
          },
          "metadata": {}
        },
        {
          "output_type": "execute_result",
          "data": {
            "text/plain": []
          },
          "metadata": {},
          "execution_count": 3
        }
      ]
    }
  ]
}